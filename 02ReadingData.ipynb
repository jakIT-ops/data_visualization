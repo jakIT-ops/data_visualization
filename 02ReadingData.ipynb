{
 "cells": [
  {
   "cell_type": "markdown",
   "id": "c3c77773",
   "metadata": {},
   "source": [
    "# 1. Comma Separated Files"
   ]
  },
  {
   "cell_type": "markdown",
   "id": "f47ab2eb",
   "metadata": {},
   "source": [
    "**Reading CSV file with Pandas**\n",
    "\n",
    "* **sep** - this defaults to a comma, but we can specify anything we want. For example, CSV format is poor if some of your columns contain commas. A better option might be a |.\n",
    "\n",
    "* **header** - which row (if any) have the column names.\n",
    "\n",
    "* **names** - column names to use."
   ]
  },
  {
   "cell_type": "code",
   "execution_count": 2,
   "id": "be7a7e6f",
   "metadata": {},
   "outputs": [
    {
     "name": "stdout",
     "output_type": "stream",
     "text": [
      "<bound method NDFrame.head of        age          workclass  fnlwgt    education  educationnum  \\\n",
      "0       39          State-gov   77516    Bachelors            13   \n",
      "1       50   Self-emp-not-inc   83311    Bachelors            13   \n",
      "2       38            Private  215646      HS-grad             9   \n",
      "3       53            Private  234721         11th             7   \n",
      "4       28            Private  338409    Bachelors            13   \n",
      "...    ...                ...     ...          ...           ...   \n",
      "32556   27            Private  257302   Assoc-acdm            12   \n",
      "32557   40            Private  154374      HS-grad             9   \n",
      "32558   58            Private  151910      HS-grad             9   \n",
      "32559   22            Private  201490      HS-grad             9   \n",
      "32560   52       Self-emp-inc  287927      HS-grad             9   \n",
      "\n",
      "             maritalstatus          occupation    relationship    race  \\\n",
      "0            Never-married        Adm-clerical   Not-in-family   White   \n",
      "1       Married-civ-spouse     Exec-managerial         Husband   White   \n",
      "2                 Divorced   Handlers-cleaners   Not-in-family   White   \n",
      "3       Married-civ-spouse   Handlers-cleaners         Husband   Black   \n",
      "4       Married-civ-spouse      Prof-specialty            Wife   Black   \n",
      "...                    ...                 ...             ...     ...   \n",
      "32556   Married-civ-spouse        Tech-support            Wife   White   \n",
      "32557   Married-civ-spouse   Machine-op-inspct         Husband   White   \n",
      "32558              Widowed        Adm-clerical       Unmarried   White   \n",
      "32559        Never-married        Adm-clerical       Own-child   White   \n",
      "32560   Married-civ-spouse     Exec-managerial            Wife   White   \n",
      "\n",
      "           sex  capitalgain  capitalloss  hoursperweek   nativecountry   label  \n",
      "0         Male         2174            0            40   United-States   <=50K  \n",
      "1         Male            0            0            13   United-States   <=50K  \n",
      "2         Male            0            0            40   United-States   <=50K  \n",
      "3         Male            0            0            40   United-States   <=50K  \n",
      "4       Female            0            0            40            Cuba   <=50K  \n",
      "...        ...          ...          ...           ...             ...     ...  \n",
      "32556   Female            0            0            38   United-States   <=50K  \n",
      "32557     Male            0            0            40   United-States    >50K  \n",
      "32558   Female            0            0            40   United-States   <=50K  \n",
      "32559     Male            0            0            20   United-States   <=50K  \n",
      "32560   Female        15024            0            40   United-States    >50K  \n",
      "\n",
      "[32561 rows x 15 columns]>\n"
     ]
    }
   ],
   "source": [
    "import pandas as pd\n",
    "\n",
    "names = ['age', 'workclass', 'fnlwgt', 'education', 'educationnum', 'maritalstatus', 'occupation', 'relationship', 'race',\n",
    "        'sex', 'capitalgain', 'capitalloss', 'hoursperweek', 'nativecountry', 'label']\n",
    "\n",
    "df = pd.read_csv(\"./data/adult.data\", header=None, names=names)\n",
    "                      \n",
    "print(df.head)"
   ]
  },
  {
   "cell_type": "markdown",
   "id": "9225f110",
   "metadata": {},
   "source": [
    "# 2. JSON Files"
   ]
  },
  {
   "cell_type": "markdown",
   "id": "1a2128cf",
   "metadata": {},
   "source": [
    "## Introduction to JSON file"
   ]
  },
  {
   "cell_type": "markdown",
   "id": "ef7d30b3",
   "metadata": {},
   "source": [
    "**JSON (JavaScript Object Notation) is a popular format allowing for a more flexible schema. It is also easy for humans to read and write. A lot of the data sent around the web is transmitted as JSON. Here is an example:**\n",
    "\n",
    "```json\n",
    "{\n",
    "    \"glossary\": {\n",
    "        \"title\": \"example glossary\",\n",
    "        \"GlossDiv\": {\n",
    "            \"title\": \"S\",\n",
    "            \"GlossList\": {\n",
    "                \"GlossEntry\": {\n",
    "                    \"ID\": \"SGML\",\n",
    "                    \"SortAs\": \"SGML\",\n",
    "                    \"GlossTerm\": \"Standard Generalized Markup Language\",\n",
    "                    \"Acronym\": \"SGML\",\n",
    "                    \"Abbrev\": \"ISO 8879:1986\",\n",
    "                    \"GlossDef\": {\n",
    "                        \"para\": \"A meta-markup language, used to create markup languages such as DocBook.\",\n",
    "                        \"GlossSeeAlso\": [\"GML\", \"XML\"]\n",
    "                    },\n",
    "                    \"GlossSee\": \"markup\"\n",
    "                }\n",
    "            }\n",
    "        }\n",
    "    }\n",
    "}\n",
    "```"
   ]
  },
  {
   "cell_type": "markdown",
   "id": "a1f60fe9",
   "metadata": {},
   "source": [
    "## Reading JSON file with Python"
   ]
  },
  {
   "cell_type": "code",
   "execution_count": 3,
   "id": "c7649b84",
   "metadata": {},
   "outputs": [
    {
     "name": "stdout",
     "output_type": "stream",
     "text": [
      "{'glossary': {'title': 'example glossary', 'GlossDiv': {'title': 'S', 'GlossList': {'GlossEntry': {'ID': 'SGML', 'SortAs': 'SGML', 'GlossTerm': 'Standard Generalized Markup Language', 'Acronym': 'SGML', 'Abbrev': 'ISO 8879:1986', 'GlossDef': {'para': 'A meta-markup language, used to create markup languages such as DocBook.', 'GlossSeeAlso': ['GML', 'XML']}, 'GlossSee': 'markup'}}}}}\n"
     ]
    }
   ],
   "source": [
    "import json\n",
    "\n",
    "## Define the JSON object as a string\n",
    "json_string = \"\"\"{\n",
    "    \"glossary\": {\n",
    "        \"title\": \"example glossary\",\n",
    "        \"GlossDiv\": {\n",
    "            \"title\": \"S\",\n",
    "            \"GlossList\": {\n",
    "                \"GlossEntry\": {\n",
    "                    \"ID\": \"SGML\",\n",
    "                    \"SortAs\": \"SGML\",\n",
    "                    \"GlossTerm\": \"Standard Generalized Markup Language\",\n",
    "                    \"Acronym\": \"SGML\",\n",
    "                    \"Abbrev\": \"ISO 8879:1986\",\n",
    "                    \"GlossDef\": {\n",
    "                        \"para\": \"A meta-markup language, used to create markup languages such as DocBook.\",\n",
    "                        \"GlossSeeAlso\": [\"GML\", \"XML\"]\n",
    "                    },\n",
    "                    \"GlossSee\": \"markup\"\n",
    "                }\n",
    "            }\n",
    "        }\n",
    "    }\n",
    "}\"\"\"\n",
    "\n",
    "\n",
    "# Read the JSON data into Python\n",
    "json_data = json.loads(json_string)\n",
    "\n",
    "print(json_data)"
   ]
  },
  {
   "cell_type": "markdown",
   "id": "8655c831",
   "metadata": {},
   "source": [
    "# 3. Raw Files"
   ]
  },
  {
   "cell_type": "markdown",
   "id": "19e9d465",
   "metadata": {},
   "source": [
    "## Introduction to raw files\n",
    "\n",
    "Sometimes you get data in strange formats and you have to roll your own Python code to process the data. Fortunately, doing this is simple\n",
    "\n",
    "For this, we will assume that you have data in some type of text file. Each row of data corresponds to a row in your text file.\n",
    "\n",
    "```raw\n",
    "James|22|M\n",
    "Sarah|31|F\n",
    "Mindy|25|F\n",
    "```"
   ]
  },
  {
   "cell_type": "code",
   "execution_count": 5,
   "id": "e6ec2e47",
   "metadata": {},
   "outputs": [
    {
     "name": "stdout",
     "output_type": "stream",
     "text": [
      "James|22|M\n",
      "\n",
      "Sarah|31|F\n",
      "\n",
      "Mindy|25|F\n"
     ]
    }
   ],
   "source": [
    "import tempfile\n",
    "\n",
    "tmp = tempfile.NamedTemporaryFile()\n",
    "\n",
    "# Open the file for writing. And write the data.\n",
    "with open(tmp.name, 'w') as f:\n",
    "    f.write(\"James|22|M\\n\")\n",
    "    f.write(\"Sarah|31|F\\n\")\n",
    "    f.write(\"Mindy|25|F\")\n",
    "\n",
    "# Read in the data from our file, line by line\n",
    "with open(tmp.name, \"r\") as f:\n",
    "    for line in f:\n",
    "      print(line)"
   ]
  },
  {
   "cell_type": "code",
   "execution_count": 6,
   "id": "d3b77277",
   "metadata": {},
   "outputs": [
    {
     "name": "stdout",
     "output_type": "stream",
     "text": [
      "['James', 'Sarah', 'Mindy']\n"
     ]
    }
   ],
   "source": [
    "import tempfile\n",
    "\n",
    "tmp = tempfile.NamedTemporaryFile()\n",
    "\n",
    "# Open the file for writing and write our data\n",
    "with open(tmp.name, 'w') as f:\n",
    "    f.write(\"James|22|M\\n\")\n",
    "    f.write(\"Sarah|31|F\\n\")\n",
    "    f.write(\"Mindy|25|F\")\n",
    "\n",
    "first_values = []  # Define a list to store the first values of each row\n",
    "with open(tmp.name, \"r\") as f:  # Open the file to read\n",
    "    for line in f:  # Loop over each line\n",
    "      row_values = line.split(\"|\")  # Split each line by the | character into a list\n",
    "      first_values.append(row_values[0])  # Add the first value to our list\n",
    "      \n",
    "print(first_values)"
   ]
  },
  {
   "cell_type": "markdown",
   "id": "b166f026",
   "metadata": {},
   "source": [
    "# 4. Exercise: Reading Auto MPG Dataset"
   ]
  },
  {
   "cell_type": "markdown",
   "id": "9fe3a4a5",
   "metadata": {},
   "source": [
    "**As an exercise, read Auto MPG dataset. In this documentation, you will find the Attribute Information which lists the column names. Fill whitespace with _ in columns' names**"
   ]
  },
  {
   "cell_type": "code",
   "execution_count": 10,
   "id": "d697c0c9",
   "metadata": {},
   "outputs": [
    {
     "name": "stdout",
     "output_type": "stream",
     "text": [
      "      mpg  cylinders  displacement horsepower  weight  acceleration  \\\n",
      "0    18.0          8         307.0      130.0  3504.0          12.0   \n",
      "1    15.0          8         350.0      165.0  3693.0          11.5   \n",
      "2    18.0          8         318.0      150.0  3436.0          11.0   \n",
      "3    16.0          8         304.0      150.0  3433.0          12.0   \n",
      "4    17.0          8         302.0      140.0  3449.0          10.5   \n",
      "..    ...        ...           ...        ...     ...           ...   \n",
      "393  27.0          4         140.0      86.00  2790.0          15.6   \n",
      "394  44.0          4          97.0      52.00  2130.0          24.6   \n",
      "395  32.0          4         135.0      84.00  2295.0          11.6   \n",
      "396  28.0          4         120.0      79.00  2625.0          18.6   \n",
      "397  31.0          4         119.0      82.00  2720.0          19.4   \n",
      "\n",
      "     model_year  origin                   car_name  \n",
      "0            70       1  chevrolet chevelle malibu  \n",
      "1            70       1          buick skylark 320  \n",
      "2            70       1         plymouth satellite  \n",
      "3            70       1              amc rebel sst  \n",
      "4            70       1                ford torino  \n",
      "..          ...     ...                        ...  \n",
      "393          82       1            ford mustang gl  \n",
      "394          82       2                  vw pickup  \n",
      "395          82       1              dodge rampage  \n",
      "396          82       1                ford ranger  \n",
      "397          82       1                 chevy s-10  \n",
      "\n",
      "[398 rows x 9 columns]\n"
     ]
    }
   ],
   "source": [
    "import pandas as pd\n",
    "\n",
    "def read_csv():\n",
    "    \n",
    "    names = ['mpg', 'cylinders', 'displacement', 'horsepower', 'weight', 'acceleration', 'model_year', 'origin', 'car_name']\n",
    "    df = pd.read_csv('./data/auto-mpg.data', header=None, names=names, delim_whitespace=True)\n",
    "    return df\n",
    "\n",
    "print(read_csv())"
   ]
  }
 ],
 "metadata": {
  "kernelspec": {
   "display_name": "Python 3 (ipykernel)",
   "language": "python",
   "name": "python3"
  },
  "language_info": {
   "codemirror_mode": {
    "name": "ipython",
    "version": 3
   },
   "file_extension": ".py",
   "mimetype": "text/x-python",
   "name": "python",
   "nbconvert_exporter": "python",
   "pygments_lexer": "ipython3",
   "version": "3.9.7"
  }
 },
 "nbformat": 4,
 "nbformat_minor": 5
}
