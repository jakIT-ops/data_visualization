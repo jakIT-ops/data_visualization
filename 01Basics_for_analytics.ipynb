{
 "cells": [
  {
   "cell_type": "markdown",
   "id": "f5ae6f56",
   "metadata": {},
   "source": [
    "# 1. Getting Started"
   ]
  },
  {
   "cell_type": "markdown",
   "id": "b1e952ce",
   "metadata": {},
   "source": [
    "## Native Python for science"
   ]
  },
  {
   "cell_type": "code",
   "execution_count": 1,
   "id": "7d441773",
   "metadata": {},
   "outputs": [],
   "source": [
    "# Importing function\n",
    "from collections import Counter"
   ]
  },
  {
   "cell_type": "code",
   "execution_count": 3,
   "id": "5c7481ae",
   "metadata": {},
   "outputs": [
    {
     "name": "stdout",
     "output_type": "stream",
     "text": [
      "[(22, 2), (25, 2), (24, 2), (30, 1), (26, 1), (35, 1)]\n"
     ]
    }
   ],
   "source": [
    "# List in Python\n",
    "marriage_ages = [22, 22, 25, 25, 30, 24, 26, 24, 35] # create a list\n",
    "value_counts = Counter(marriage_ages) # apply the counter function\n",
    "print(value_counts.most_common())"
   ]
  },
  {
   "cell_type": "markdown",
   "id": "7ac917b1",
   "metadata": {},
   "source": [
    "**Functions in Python**"
   ]
  },
  {
   "cell_type": "code",
   "execution_count": 5,
   "id": "7305f991",
   "metadata": {},
   "outputs": [
    {
     "name": "stdout",
     "output_type": "stream",
     "text": [
      "105\n"
     ]
    }
   ],
   "source": [
    "def add_two_numbers(x, y):  # function header\n",
    "    \n",
    "    z = x + y\n",
    "    return z  # function return\n",
    "print(add_two_numbers(100,5))  # function  call"
   ]
  },
  {
   "cell_type": "code",
   "execution_count": null,
   "id": "b01afb3e",
   "metadata": {},
   "outputs": [],
   "source": [
    "# nergvi functs\n",
    "y = lambda x, y: x + y  # an anonymous function which takes x and y and input and returns x+y\n",
    "print(y(100,5))  # call the function"
   ]
  },
  {
   "cell_type": "markdown",
   "id": "6459631c",
   "metadata": {},
   "source": [
    "# 2. Data Structures"
   ]
  },
  {
   "cell_type": "markdown",
   "id": "f7227868",
   "metadata": {},
   "source": [
    "## 2.1 Lists in Python"
   ]
  },
  {
   "cell_type": "code",
   "execution_count": 1,
   "id": "3f0b902e",
   "metadata": {},
   "outputs": [
    {
     "name": "stdout",
     "output_type": "stream",
     "text": [
      "---0---\n",
      "[1, 5, 3, 6, 4]\n",
      "---1---\n",
      "48\n",
      "---2---\n",
      "12\n",
      "---3---\n",
      "12\n",
      "---4---\n",
      "[10, 12]\n",
      "---5---\n",
      "[3, 6, 4]\n",
      "---6---\n",
      "False\n",
      "True\n",
      "---7---\n",
      "[1, 5, 3, 6, 4, 7, 10, 12, 44]\n",
      "---8---\n",
      "[1, 5, 3, 6, 4, 7, 10, 12, 44, 100, 200]\n",
      "---9---\n",
      "[1, 5, 3, 6, 100, 7, 10, 12, 44, 100, 200]\n",
      "---10---\n",
      "[1, 5, 3, 6, 100, 1000, 7, 10, 12, 44, 100, 200]\n"
     ]
    }
   ],
   "source": [
    "# This creates the list\n",
    "depths = [1, 5, 3, 6, 4, 7, 10, 12]\n",
    "\n",
    "# This outputs the first 5 elements. No number before the : implies 0\n",
    "first_5_depths = depths[:5]\n",
    "\n",
    "print(\"---0---\")\n",
    "print(first_5_depths)\n",
    "\n",
    "# You can easily sum\n",
    "print(\"---1---\")\n",
    "print(sum(depths))\n",
    "\n",
    "# And take the max\n",
    "print(\"---2---\")\n",
    "print(max(depths))\n",
    "\n",
    "# Slicing with a negative starts from the end, so this returns the last element\n",
    "print(\"---3---\")\n",
    "print(depths[-1])\n",
    "\n",
    "# This returns the end of the list starting from the second to the end\n",
    "# Nothing after the : implies the end of the list\n",
    "print(\"---4---\")\n",
    "print(depths[-2:])\n",
    "\n",
    "# This returns the second, third, and forth elements\n",
    "# Remember counting starts at zero!\n",
    "print(\"---5---\")\n",
    "print(depths[2:5])\n",
    "\n",
    "# These commands check if a value is contained in the list\n",
    "print(\"---6---\")\n",
    "print(22 in depths)\n",
    "print(1 in depths)\n",
    "\n",
    "# This is how you add another value to the end of your list\n",
    "depths.append(44)\n",
    "print(\"---7---\")\n",
    "print(depths)\n",
    "\n",
    "# You can extend a list with another list\n",
    "depths.extend([100, 200])\n",
    "print(\"---8---\")\n",
    "print(depths)\n",
    "\n",
    "# You can also modify a value\n",
    "# This replaces the 4th value with 100\n",
    "depths[4] = 100\n",
    "print(\"---9---\")\n",
    "print(depths)\n",
    "\n",
    "# Or you can do insert to accomplish the same thing\n",
    "depths.insert(5, 1000)\n",
    "print(\"---10---\")\n",
    "print(depths)"
   ]
  },
  {
   "cell_type": "markdown",
   "id": "f76aa3e9",
   "metadata": {},
   "source": [
    "## 2.2 Dictionaries in Python"
   ]
  },
  {
   "cell_type": "code",
   "execution_count": 2,
   "id": "c693e45b",
   "metadata": {},
   "outputs": [
    {
     "name": "stdout",
     "output_type": "stream",
     "text": [
      "---0---\n",
      "22\n",
      "---1---\n",
      "True\n",
      "---2---\n",
      "False\n",
      "---3---\n",
      "22\n",
      "---4---\n",
      "1\n",
      "---5---\n",
      "dict_keys(['age', 'birth_year', 'name', 'siblings'])\n",
      "---6---\n",
      "dict_values([22, 1999, 'jack', ['jill', 'jen']])\n",
      "---7---\n",
      "dict_items([('age', 22), ('birth_year', 1999), ('name', 'jack'), ('siblings', ['jill', 'jen'])])\n"
     ]
    }
   ],
   "source": [
    "# Initialize the dictionary.\n",
    "# Keys are first then a : then the value\n",
    "my_dict = {\"age\": 22, \"birth_year\": 1999, \"name\": \"jack\", \"siblings\": [\"jill\", \"jen\"]}\n",
    "\n",
    "# Get the value for the key age\n",
    "print(\"---0---\")\n",
    "print(my_dict['age'])\n",
    "\n",
    "# Check is age is a key\n",
    "print(\"---1---\")\n",
    "print('age' in my_dict)\n",
    "\n",
    "# Check is company is a key\n",
    "print(\"---2---\")\n",
    "print('company' in my_dict)\n",
    "\n",
    "# Get the value for they key age\n",
    "print(\"---3---\")\n",
    "print(my_dict.get('age'))\n",
    "\n",
    "# Get the value for they key company\n",
    "# If it doesn't exsist, return 1\n",
    "print(\"---4---\")\n",
    "print(my_dict.get('company', 1))\n",
    "\n",
    "# Return all the keys\n",
    "print(\"---5---\")\n",
    "print(my_dict.keys())\n",
    "\n",
    "# Return all the values\n",
    "print(\"---6---\")\n",
    "print(my_dict.values())\n",
    "\n",
    "# Return all the key, value pairs\n",
    "print(\"---7---\")\n",
    "print(my_dict.items())"
   ]
  },
  {
   "cell_type": "code",
   "execution_count": 3,
   "id": "997a4dfd",
   "metadata": {},
   "outputs": [
    {
     "name": "stdout",
     "output_type": "stream",
     "text": [
      "0\n"
     ]
    }
   ],
   "source": [
    "from collections import defaultdict  # import defaultdict class\n",
    "my_default_dict = defaultdict(int)   # make a default dictionary\n",
    "my_default_dict['age'] = 22          # adding a key-value pair\n",
    "print(my_default_dict['company'])    # printing the value of the key \"company\""
   ]
  },
  {
   "cell_type": "markdown",
   "id": "610b2c42",
   "metadata": {},
   "source": [
    "## 2.3 Sets in Python"
   ]
  },
  {
   "cell_type": "code",
   "execution_count": 4,
   "id": "3bf7a95a",
   "metadata": {},
   "outputs": [
    {
     "name": "stdout",
     "output_type": "stream",
     "text": [
      "---0---\n",
      "{1, 2}\n",
      "---1---\n",
      "{1, 2, 3, 4}\n",
      "---1---\n",
      "{1, 2}\n",
      "---2---\n",
      "{1, 2, 3, 4}\n",
      "---3---\n",
      "set()\n"
     ]
    }
   ],
   "source": [
    "my_set = set()\n",
    "my_set.add(1)\n",
    "my_set.add(2)\n",
    "my_set.add(1)\n",
    "# Note that the set only contains a single 1 value\n",
    "print(\"---0---\")\n",
    "print(my_set)\n",
    "\n",
    "my_set2 = set()\n",
    "my_set2.add(1)\n",
    "my_set2.add(2)\n",
    "my_set2.add(3)\n",
    "my_set2.add(4)\n",
    "print(\"---1---\")\n",
    "print(my_set2)\n",
    "\n",
    "# Prints the overlap\n",
    "print(\"---1---\")\n",
    "print(my_set.intersection(my_set2))\n",
    "print(\"---2---\")\n",
    "\n",
    "# Prints the combination\n",
    "print(my_set.union(my_set2))\n",
    "\n",
    "# Prints the difference (those in my_set but not my_set2)\n",
    "print(\"---3---\")\n",
    "print(my_set.difference(my_set2))"
   ]
  },
  {
   "cell_type": "markdown",
   "id": "21e684e6",
   "metadata": {},
   "source": [
    "# 3 Control Flow and Build-in Functions"
   ]
  },
  {
   "cell_type": "markdown",
   "id": "d61f1b88",
   "metadata": {},
   "source": [
    "**The for construct**"
   ]
  },
  {
   "cell_type": "code",
   "execution_count": 5,
   "id": "4e887dc4",
   "metadata": {},
   "outputs": [
    {
     "name": "stdout",
     "output_type": "stream",
     "text": [
      "Index: 0\n",
      "Value: tyler\n",
      "Index: 1\n",
      "Value: karen\n",
      "Index: 2\n",
      "Value: jill\n"
     ]
    }
   ],
   "source": [
    "names = ['tyler', 'karen', 'jill']   # list containing names\n",
    "\n",
    "for i, name in enumerate(names):     # iterating over names\n",
    "    print(\"Index: {0}\".format(i))    # printing index number\n",
    "    print(\"Value: {0}\".format(name)) # print the value at the index"
   ]
  },
  {
   "cell_type": "markdown",
   "id": "86fcdfc2",
   "metadata": {},
   "source": [
    "**The sort function**"
   ]
  },
  {
   "cell_type": "code",
   "execution_count": 6,
   "id": "96d4ab34",
   "metadata": {},
   "outputs": [
    {
     "name": "stdout",
     "output_type": "stream",
     "text": [
      "[-5, 1, 2, 10, 22]\n"
     ]
    }
   ],
   "source": [
    "my_list = [2, 10, 1, -5, 22]\n",
    "my_list.sort()  # sorting the list\n",
    "\n",
    "print(my_list)"
   ]
  },
  {
   "cell_type": "code",
   "execution_count": 7,
   "id": "c20e0f88",
   "metadata": {},
   "outputs": [
    {
     "name": "stdout",
     "output_type": "stream",
     "text": [
      "[22, 10, -5, 2, 1]\n"
     ]
    }
   ],
   "source": [
    "my_list = [2, 10, 1, -5, 22]\n",
    "\n",
    "# Sorted reversely on basis of absolute value\n",
    "my_list_sorted_abs = sorted(my_list, key=abs, reverse=True)\n",
    "\n",
    "print(my_list_sorted_abs)"
   ]
  },
  {
   "cell_type": "markdown",
   "id": "ef3df903",
   "metadata": {},
   "source": [
    "**The zip function**"
   ]
  },
  {
   "cell_type": "code",
   "execution_count": 8,
   "id": "d7cfd44e",
   "metadata": {},
   "outputs": [
    {
     "name": "stdout",
     "output_type": "stream",
     "text": [
      "[(1, 'x'), (2, 'y'), (3, 'z')]\n"
     ]
    }
   ],
   "source": [
    "list_1 = [1, 2, 3]  # create your first list\n",
    "list_2 = ['x', 'y', 'z']  # create your second list\n",
    "\n",
    "print(list(zip(list_1, list_2)))  #combine and print"
   ]
  },
  {
   "cell_type": "code",
   "execution_count": 9,
   "id": "41220dea",
   "metadata": {},
   "outputs": [
    {
     "name": "stdout",
     "output_type": "stream",
     "text": [
      "('x', 'y', 'z')\n",
      "(1, 2, 3)\n"
     ]
    }
   ],
   "source": [
    "pairs = [('x', 1), ('y', 2), ('z', 3)]  # a list of tuples\n",
    "letters, numbers = zip(*pairs)  # break into two lists\n",
    "\n",
    "print(letters)  # print the first values of the tuples\n",
    "print(numbers)  # print the second values of the tuples"
   ]
  },
  {
   "cell_type": "markdown",
   "id": "47068bf5",
   "metadata": {},
   "source": [
    "# 4 Numpy an External Library"
   ]
  },
  {
   "cell_type": "markdown",
   "id": "eb2c3240",
   "metadata": {},
   "source": [
    "## Handling arrays with NumPy"
   ]
  },
  {
   "cell_type": "code",
   "execution_count": 12,
   "id": "15c2f83b",
   "metadata": {},
   "outputs": [
    {
     "name": "stdout",
     "output_type": "stream",
     "text": [
      "--0--\n",
      "[ 5 10 15 20 25 30]\n",
      "--1--\n",
      "8.539125638299666\n",
      "--2--\n",
      "30\n",
      "--3--\n",
      "[ 25 100 225 400 625 900]\n",
      "--4--\n",
      "[10 20 30 40 50 60]\n",
      "--5--\n",
      "2275\n",
      "--6--\n",
      "(6,)\n"
     ]
    }
   ],
   "source": [
    "# Single dimensional arrays\n",
    "import numpy as np\n",
    "\n",
    "# This creates our array\n",
    "np_array = np.array([5, 10, 15, 20, 25, 30])\n",
    "print(\"--0--\")\n",
    "\n",
    "# Gets the unique values\n",
    "print(np.unique(np_array))\n",
    "print(\"--1--\")\n",
    "\n",
    "# Calculates the standard deviation\n",
    "print(np.std(np_array))\n",
    "print(\"--2--\")\n",
    "\n",
    "# Calculates the maximum\n",
    "print(np_array.max())\n",
    "print(\"--3--\")\n",
    "\n",
    "# Squares each value in the array\n",
    "print(np_array ** 2)\n",
    "print(\"--4--\")\n",
    "\n",
    "# Adds the arrays together element wise\n",
    "print(np_array + np_array)\n",
    "print(\"--5--\")\n",
    "\n",
    "# The sum of the squares of the elements\n",
    "print(np.sum(np_array ** 2))\n",
    "print(\"--6--\")\n",
    "\n",
    "# Gives you the shape: (rows, columns)\n",
    "print(np_array.shape)"
   ]
  },
  {
   "cell_type": "code",
   "execution_count": 13,
   "id": "8dedf472",
   "metadata": {},
   "outputs": [
    {
     "name": "stdout",
     "output_type": "stream",
     "text": [
      "--0--\n",
      "[[1 2 3]\n",
      " [4 5 6]]\n",
      "--1--\n",
      "[[1 4]\n",
      " [2 5]\n",
      " [3 6]]\n",
      "--3--\n",
      "(2, 3)\n",
      "--4--\n",
      "5\n",
      "3\n"
     ]
    }
   ],
   "source": [
    "# Two dimensional arrays\n",
    "import numpy as np\n",
    "\n",
    "# Create 2d array\n",
    "print(\"--0--\")\n",
    "np_2d_array = np.array([[1,2,3], \n",
    "                        [4,5,6]])\n",
    "print(np_2d_array)\n",
    "\n",
    "# Calculate the transpose, which is when you swap the columns and rows.\n",
    "print(\"--1--\")\n",
    "np_2d_array_T = np_2d_array.T\n",
    "print(np_2d_array_T)\n",
    "\n",
    "# Print the shape of the array as (number of rows, number of columns)\n",
    "print(\"--3--\")\n",
    "print(np_2d_array.shape)\n",
    "\n",
    "# Access elements in the 2d array by index. \n",
    "# First index is the row number\n",
    "# Second index is the column number\n",
    "# Index numbers start from 0\n",
    "print(\"--4--\")\n",
    "print(np_2d_array[1,1])\n",
    "print(np_2d_array[0,2])"
   ]
  },
  {
   "cell_type": "markdown",
   "id": "5191a69d",
   "metadata": {},
   "source": [
    "## Important functionalities"
   ]
  },
  {
   "cell_type": "code",
   "execution_count": 14,
   "id": "35074af7",
   "metadata": {},
   "outputs": [
    {
     "name": "stdout",
     "output_type": "stream",
     "text": [
      "2275\n"
     ]
    }
   ],
   "source": [
    "# Calculating dot product\n",
    "import numpy as np\n",
    "np_array = np.array([5, 10, 15, 20, 25, 30])\n",
    "dot_product = np.dot(np_array, np_array)\n",
    "print(dot_product)"
   ]
  },
  {
   "cell_type": "code",
   "execution_count": 16,
   "id": "834a6a20",
   "metadata": {},
   "outputs": [
    {
     "name": "stdout",
     "output_type": "stream",
     "text": [
      "--0--\n",
      "0.5329375801454256\n",
      "--1--\n",
      "[[0.56334125 0.44569458]\n",
      " [0.50322051 0.85942807]\n",
      " [0.30556731 0.99125287]]\n"
     ]
    }
   ],
   "source": [
    "# Generating random values\n",
    "import numpy as np\n",
    "\n",
    "# Generage a single random number in range [0,1)\n",
    "print(\"--0--\")\n",
    "print(np.random.rand())\n",
    "\n",
    "# Generate a matrix of random numbers in range [0,1) with shape (3,2)\n",
    "print(\"--1--\")\n",
    "print(np.random.rand(3,2))"
   ]
  },
  {
   "cell_type": "code",
   "execution_count": 17,
   "id": "e80b8599",
   "metadata": {},
   "outputs": [
    {
     "name": "stdout",
     "output_type": "stream",
     "text": [
      "--0--\n",
      "[10 11]\n",
      "--1--\n",
      "[[ 8 11]\n",
      " [14  9]\n",
      " [11  8]]\n"
     ]
    }
   ],
   "source": [
    "import numpy as np\n",
    "\n",
    "# Low=5, High=15, Size=2. Generate 2 values between 5 and 15 (exclusive)\n",
    "print(\"--0--\")\n",
    "print(np.random.randint(5, 15, 2))\n",
    "\n",
    "# Low=5, High=15, Size=(3,2). Generate a matrix of shape (3,2) with values between 5 and 15 (exclusive)\n",
    "print(\"--1--\")\n",
    "print(np.random.randint(5, 15, (3,2)))"
   ]
  },
  {
   "cell_type": "code",
   "execution_count": 18,
   "id": "18f8dba1",
   "metadata": {},
   "outputs": [
    {
     "name": "stdout",
     "output_type": "stream",
     "text": [
      "--0--\n",
      "[5 4 5 1 4 2 1 3 4 1]\n",
      "--1--\n",
      "[1 3 4]\n"
     ]
    }
   ],
   "source": [
    "# Sampling the data\n",
    "import numpy as np\n",
    "array = np.array([1,2,3,4,5])\n",
    "\n",
    "# Sample 10 data points with replacement. \n",
    "print(\"--0--\")\n",
    "print(np.random.choice(array, 10, replace=True))\n",
    "\n",
    "# Sample 3 data points without replacement. \n",
    "print(\"--1--\")\n",
    "print(np.random.choice(array, 3, replace=False))"
   ]
  },
  {
   "cell_type": "markdown",
   "id": "cbbdfe03",
   "metadata": {},
   "source": [
    "## Randomly shuffling value"
   ]
  },
  {
   "cell_type": "code",
   "execution_count": 19,
   "id": "088caf89",
   "metadata": {},
   "outputs": [
    {
     "name": "stdout",
     "output_type": "stream",
     "text": [
      "[3, 5, 2, 4, 1]\n"
     ]
    }
   ],
   "source": [
    "import numpy as np\n",
    "\n",
    "x = [1,2,3,4,5]  # Create a list of 5 elements\n",
    "np.random.shuffle(x)  # Randomly shuffle the order of the elements in the list\n",
    "\n",
    "print(x)"
   ]
  },
  {
   "cell_type": "markdown",
   "id": "8198e872",
   "metadata": {},
   "source": [
    "## [Scipy](https://en.wikipedia.org/wiki/Pearson_correlation_coefficient) an External Library"
   ]
  },
  {
   "cell_type": "code",
   "execution_count": 21,
   "id": "33561886",
   "metadata": {},
   "outputs": [
    {
     "name": "stdout",
     "output_type": "stream",
     "text": [
      "(0.9999999999999999, 1.8488927466117464e-32)\n"
     ]
    }
   ],
   "source": [
    "from scipy import stats\n",
    "import numpy as np\n",
    "\n",
    "array_1 = np.array([1,2,3,4,5,6])  # Create a numpy array from a list\n",
    "array_2 = array_1  # Create another array with the same values\n",
    "\n",
    "print(stats.pearsonr(array_1, array_2))  # Calculate the correlation which will be 1 since the values are the same "
   ]
  },
  {
   "cell_type": "markdown",
   "id": "2cd5fb7e",
   "metadata": {},
   "source": [
    "## Generating samples from [distributions](https://docs.scipy.org/doc/scipy/reference/stats.html)"
   ]
  },
  {
   "cell_type": "code",
   "execution_count": 28,
   "id": "a25334ef",
   "metadata": {},
   "outputs": [
    {
     "name": "stdout",
     "output_type": "stream",
     "text": [
      "[ 14.65648769  -2.257763     0.67528205 -14.24748186  -5.44382725\n",
      "   1.1092259  -11.50993577   3.75698018  -6.0063869   -2.9169375 ]\n"
     ]
    }
   ],
   "source": [
    "# normal distribution\n",
    "from scipy import stats\n",
    "\n",
    "x = stats.norm.rvs(loc=0, scale=10, size=10)  # Generate 10 values randomly sampled from a normal distribution with mean 0 and standard deviation of 10\n",
    "\n",
    "print(x)"
   ]
  },
  {
   "cell_type": "code",
   "execution_count": 31,
   "id": "78b7a5f4",
   "metadata": {},
   "outputs": [
    {
     "name": "stdout",
     "output_type": "stream",
     "text": [
      "7.69459862670642e-24\n",
      "0.03989422804014327\n"
     ]
    }
   ],
   "source": [
    "# Probability density function\n",
    "from scipy import stats\n",
    "\n",
    "p1 = stats.norm.pdf(x=-100, loc=0, scale=10)  # Get probability of sampling a value of -100\n",
    "p2 = stats.norm.pdf(x=0, loc=0, scale=10)     # Get probability of sampling a value of 0\n",
    "\n",
    "print(p1)\n",
    "print(p2)"
   ]
  },
  {
   "cell_type": "code",
   "execution_count": 30,
   "id": "26fd47c1",
   "metadata": {},
   "outputs": [
    {
     "name": "stdout",
     "output_type": "stream",
     "text": [
      "0.5\n"
     ]
    }
   ],
   "source": [
    "# Cumulative distribution function\n",
    "from scipy import stats\n",
    "\n",
    "p1 = stats.norm.cdf(x=0, loc=0, scale=10)  # Get probability of sampling a value less than or equal to 0\n",
    "\n",
    "print(p1)"
   ]
  },
  {
   "cell_type": "code",
   "execution_count": 29,
   "id": "3ba58d15",
   "metadata": {},
   "outputs": [
    {
     "name": "stdout",
     "output_type": "stream",
     "text": [
      "DescribeResult(nobs=500, minmax=(-3.2412673400690726, 3.852731490654721), mean=0.0026059282177155795, variance=0.9619747022730771, skewness=0.1862516424103553, kurtosis=0.2598514464267856)\n"
     ]
    }
   ],
   "source": [
    "# Calculating descriptive statistics\n",
    "from scipy import stats\n",
    "\n",
    "# Calculate descriptive statistics for 500 data points sampled from normal distribution \n",
    "# with mean 0 and standard deviation of 1\n",
    "print(stats.describe(stats.norm.rvs(loc=0, scale=1, size=500))) "
   ]
  },
  {
   "cell_type": "markdown",
   "id": "30905661",
   "metadata": {},
   "source": [
    "# 5 Exercise: Using NumPy and Scipy"
   ]
  },
  {
   "cell_type": "markdown",
   "id": "211ceb15",
   "metadata": {},
   "source": [
    "## Numpy: Create a function which takes that numpy 1-D array as input and returns the following (in the same order as listed):\n",
    "\n",
    "MAX, STD, SUM, DOT PRODUCT"
   ]
  },
  {
   "cell_type": "code",
   "execution_count": 38,
   "id": "9841703e",
   "metadata": {},
   "outputs": [
    {
     "name": "stdout",
     "output_type": "stream",
     "text": [
      "(0.7952673118598902, 0.251953356731858, 1.4645887493306218, 0.7464065107754213)\n"
     ]
    }
   ],
   "source": [
    "import numpy as np \n",
    "\n",
    "def perform_calculations(array): \n",
    "\n",
    "    return np.max(array), np.std(array), np.sum(array), np.dot(array, array)\n",
    "\n",
    "print(perform_calculations(np.random.rand(5))) "
   ]
  },
  {
   "cell_type": "markdown",
   "id": "49fc2ec1",
   "metadata": {},
   "source": [
    "## Scipy: Create a function that takes in two numpy 1-D arrays and returns the correlation and p-value as a tuple."
   ]
  },
  {
   "cell_type": "code",
   "execution_count": 37,
   "id": "ab0d98de",
   "metadata": {},
   "outputs": [
    {
     "name": "stdout",
     "output_type": "stream",
     "text": [
      "(-0.4450601318408434, 0.4526387365590591)\n"
     ]
    }
   ],
   "source": [
    "from scipy import stats  \n",
    "import numpy as np       \n",
    "\n",
    "def correlation(array1, array2):\n",
    "\n",
    "  return stats.pearsonr(array1, array2)\n",
    "\n",
    "print(correlation(np.random.rand(5),np.random.rand(5))) "
   ]
  }
 ],
 "metadata": {
  "kernelspec": {
   "display_name": "Python 3 (ipykernel)",
   "language": "python",
   "name": "python3"
  },
  "language_info": {
   "codemirror_mode": {
    "name": "ipython",
    "version": 3
   },
   "file_extension": ".py",
   "mimetype": "text/x-python",
   "name": "python",
   "nbconvert_exporter": "python",
   "pygments_lexer": "ipython3",
   "version": "3.9.7"
  }
 },
 "nbformat": 4,
 "nbformat_minor": 5
}
