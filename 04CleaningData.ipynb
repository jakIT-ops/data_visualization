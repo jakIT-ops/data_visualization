{
 "cells": [
  {
   "cell_type": "markdown",
   "id": "3f7979bf",
   "metadata": {},
   "source": [
    "# 1. Missing Data"
   ]
  },
  {
   "cell_type": "markdown",
   "id": "39b140cf",
   "metadata": {},
   "source": [
    "## Using statistical value\n",
    "\n",
    "**fill in a column's missing values with a statistical value such as the mean, median, or mode.**"
   ]
  },
  {
   "cell_type": "code",
   "execution_count": 1,
   "id": "c7475c99",
   "metadata": {},
   "outputs": [
    {
     "name": "stdout",
     "output_type": "stream",
     "text": [
      "Average of non-missing values: 20.833333333333332\n",
      "0     5.000000\n",
      "1    10.000000\n",
      "2    20.833333\n",
      "3    15.000000\n",
      "4    20.000000\n",
      "5    20.833333\n",
      "6    25.000000\n",
      "7    50.000000\n",
      "8    20.833333\n",
      "dtype: float64\n"
     ]
    }
   ],
   "source": [
    "import numpy as np\n",
    "import pandas as pd\n",
    "\n",
    "pd_series = pd.Series([5, 10, np.nan, 15, 20, np.nan, 25, 50, np.nan])\n",
    "print('Average of non-missing values: {0}'.format(pd_series.mean()))\n",
    "pd_series = pd_series.fillna(pd_series.mean())\n",
    "print(pd_series)"
   ]
  },
  {
   "cell_type": "markdown",
   "id": "d1d8bec5",
   "metadata": {},
   "source": [
    "## Tracking and dropping missing data\n",
    "\n",
    "**Pandas also makes it easy to drop missing values using the dropna() function:**"
   ]
  },
  {
   "cell_type": "code",
   "execution_count": 3,
   "id": "1863f902",
   "metadata": {},
   "outputs": [
    {
     "name": "stdout",
     "output_type": "stream",
     "text": [
      "0     5.0\n",
      "1    10.0\n",
      "3    15.0\n",
      "4    20.0\n",
      "6    25.0\n",
      "7    50.0\n",
      "dtype: float64\n",
      "0    False\n",
      "1    False\n",
      "3    False\n",
      "4    False\n",
      "6    False\n",
      "7    False\n",
      "dtype: bool\n"
     ]
    }
   ],
   "source": [
    "import numpy as np\n",
    "import pandas as pd\n",
    "\n",
    "pd_series = pd.Series([5, 10, np.nan, 15, 20, np.nan, 25, 50, np.nan])\n",
    "# Drop rows with missing data\n",
    "pd_series = pd_series.dropna()\n",
    "print(pd_series)\n",
    "print(pd_series.isnull())"
   ]
  },
  {
   "cell_type": "markdown",
   "id": "e0832d10",
   "metadata": {},
   "source": [
    "# 2. Outliers\n",
    "\n"
   ]
  },
  {
   "attachments": {
    "image.png": {
     "image/png": "[encoded data removed]"
    }
   },
   "cell_type": "markdown",
   "id": "678691d4",
   "metadata": {},
   "source": [
    "Another area of cleaning can be dealing with outliers. First off, how do you define an outlier? This can require domain knowledge as well as other information, but a simple way to start is by taking a look at box plots:\n",
    "\n",
    "![image.png](attachment:image.png)"
   ]
  },
  {
   "cell_type": "markdown",
   "id": "657c7201",
   "metadata": {},
   "source": [
    "# 3. Scaling"
   ]
  },
  {
   "cell_type": "markdown",
   "id": "56a1492d",
   "metadata": {},
   "source": [
    "## Introduction to scaling\n",
    "\n",
    "The scale of your features matter for many machine learning algorithms. Having income values that range from 100 to 100,000 and ages that range from 0 to 100 can cause issues because of the large difference in scale of these two data columns. To deal with this, it is standard to rescale the data. There are many ways to do this, but two most common ones are:\n",
    "\n",
    "* **Standard scaling**\n",
    "* **Min/Max scaling**"
   ]
  },
  {
   "cell_type": "markdown",
   "id": "33af7296",
   "metadata": {},
   "source": [
    "### Standard scaling\n",
    "\n",
    "Standard scaling subtracts the mean and divides by the standard deviation. This centers the feature on zero with unit variance."
   ]
  },
  {
   "cell_type": "code",
   "execution_count": 8,
   "id": "f9736ca1",
   "metadata": {},
   "outputs": [
    {
     "name": "stdout",
     "output_type": "stream",
     "text": [
      "Before Standard scaling\n",
      "[-0.125  9.   ]\n",
      "[0.73950997 5.91607978]\n",
      "\n",
      "After Standard scaling\n",
      "[0. 0.]\n",
      "[1. 1.]\n"
     ]
    }
   ],
   "source": [
    "from sklearn.preprocessing import MinMaxScaler, StandardScaler\n",
    "import numpy as np\n",
    "\n",
    "data = [[-1, 2],\n",
    "        [-0.5, 6],\n",
    "        [0, 10],\n",
    "        [1, 18]]\n",
    "\n",
    "print(\"Before Standard scaling\")\n",
    "print(np.mean(data, 0))\n",
    "print(np.std(data, 0))\n",
    "\n",
    "# Initalize a StandardScaler\n",
    "standard = StandardScaler()\n",
    "# Fit and transform the data with the StandardScaler\n",
    "standard_data = standard.fit_transform(data)\n",
    "\n",
    "print()\n",
    "print(\"After Standard scaling\")\n",
    "print(np.mean(standard_data, 0))\n",
    "print(np.std(standard_data, 0))"
   ]
  },
  {
   "cell_type": "markdown",
   "id": "66ebfbf7",
   "metadata": {},
   "source": [
    "### Min/Max scaling\n",
    "\n",
    "Let's look at the same example but instead use the **MinMaxScaler()** from **sklearn**"
   ]
  },
  {
   "cell_type": "code",
   "execution_count": 11,
   "id": "b94acb24",
   "metadata": {},
   "outputs": [
    {
     "name": "stdout",
     "output_type": "stream",
     "text": [
      "[[0.   0.  ]\n",
      " [0.25 0.25]\n",
      " [0.5  0.5 ]\n",
      " [1.   1.  ]]\n",
      "[0. 0.]\n",
      "[1. 1.]\n",
      "[0.4375 0.4375]\n",
      "[0.36975499 0.36975499]\n"
     ]
    }
   ],
   "source": [
    "from sklearn.preprocessing import MinMaxScaler\n",
    "import numpy as np\n",
    "\n",
    "# Create matrix of data\n",
    "data = [[-1, 2], \n",
    "        [-0.5, 6], \n",
    "        [0, 10], \n",
    "        [1, 18]]\n",
    "\n",
    "# Initalize MinMaxScaler\n",
    "min_max = MinMaxScaler()\n",
    "# Fit and transform the data\n",
    "min_max_data = min_max.fit_transform(data)\n",
    "\n",
    "print(np.min(min_max_data, 0))\n",
    "print(np.max(min_max_data, 0))\n",
    "print(np.mean(min_max_data, 0))\n",
    "print(np.std(min_max_data, 0))"
   ]
  },
  {
   "cell_type": "markdown",
   "id": "e5062623",
   "metadata": {},
   "source": [
    "# 4. Categorical Data"
   ]
  },
  {
   "cell_type": "markdown",
   "id": "dd9b19a7",
   "metadata": {},
   "source": [
    "## Introduction to categorical data\n",
    "\n",
    "Sometimes you get [categorical data](https://en.wikipedia.org/wiki/Categorical_variable) which are variables with a limited and usually fixed number of values. For example, male and female. Machine learning algorithms need numbers to work, so how do you deal with these? We will discuss two ways:\n",
    "\n",
    "* Label encoding\n",
    "* One-hot encoding a.k.a dummy variables."
   ]
  },
  {
   "cell_type": "markdown",
   "id": "85b9ed85",
   "metadata": {},
   "source": [
    "## Label encoding\n",
    "\n",
    "**Label encoding** works by converting the unique values to a numeric representation. For example, if we have two categories male and female, we can categorize them as numbers:\n",
    "\n",
    "* male as 0\n",
    "* female 1\n",
    "\n",
    "You can get the integer values by adding **.cat.codes** to the end of your category series\n",
    "\n",
    "you get the string values by adding **.cat.categories** to the end of your category series"
   ]
  },
  {
   "cell_type": "code",
   "execution_count": 19,
   "id": "e746b4ba",
   "metadata": {},
   "outputs": [
    {
     "name": "stdout",
     "output_type": "stream",
     "text": [
      "0    1\n",
      "1    0\n",
      "2    1\n",
      "3    0\n",
      "dtype: int8\n",
      "Index(['female', 'male'], dtype='object')\n"
     ]
    }
   ],
   "source": [
    "import pandas as pd\n",
    "\n",
    "non_categorical_series = pd.Series(['male', 'female', 'male', 'female'])\n",
    "\n",
    "# Convert the text series to a categorical series\n",
    "categorical_series = non_categorical_series.astype('category')\n",
    "\n",
    "# Print the numeric codes for each value\n",
    "print(categorical_series.cat.codes)\n",
    "\n",
    "# Print the category names\n",
    "print(categorical_series.cat.categories)\n"
   ]
  },
  {
   "cell_type": "markdown",
   "id": "73f80807",
   "metadata": {},
   "source": [
    "## One-hot encoding \n",
    "\n",
    "**One-hot encoding** is similar but creates a new column for each category and fills it with a 1 for each row with that value and zero otherwise."
   ]
  },
  {
   "cell_type": "code",
   "execution_count": 20,
   "id": "3e011971",
   "metadata": {},
   "outputs": [
    {
     "name": "stdout",
     "output_type": "stream",
     "text": [
      "   female  male\n",
      "0       0     1\n",
      "1       1     0\n",
      "2       0     1\n",
      "3       1     0\n"
     ]
    }
   ],
   "source": [
    "import pandas as pd\n",
    "\n",
    "# Create series with male and female values\n",
    "non_categorical_series = pd.Series(['male', 'female', 'male', 'female'])\n",
    "# Create dummy or one-hot encoded variables\n",
    "print(pd.get_dummies(non_categorical_series))"
   ]
  },
  {
   "cell_type": "markdown",
   "id": "2c313762",
   "metadata": {},
   "source": [
    "# 5. Exercise: Cleaning Auto MPG Dataset"
   ]
  },
  {
   "cell_type": "markdown",
   "id": "71b146ef",
   "metadata": {},
   "source": [
    "We will then create an additional function **outlier_detection** that takes a data frame **df** and returns 2 numbers in a list:\n",
    "\n",
    "* The 90<sup>th</sup> percentile for every column\n",
    "* The 10<sup>th</sup> percentile for every column"
   ]
  },
  {
   "cell_type": "code",
   "execution_count": 31,
   "id": "465d808d",
   "metadata": {},
   "outputs": [
    {
     "name": "stdout",
     "output_type": "stream",
     "text": [
      "       mpg  cylinders  displacement  weight  acceleration  model_year  origin\n",
      "0.9  34.33        8.0         350.0  4275.2          19.0        81.0     3.0\n",
      "0.1  14.00        4.0          90.0  1988.5          12.0        71.0     1.0\n"
     ]
    }
   ],
   "source": [
    "import pandas as pd\n",
    "\n",
    "def read_csv():\n",
    "    # Define the column names as a list\n",
    "    names = [\"mpg\", \"cylinders\", \"displacement\", \"horsepower\", \"weight\", \"acceleration\", \"model_year\", \"origin\", \"car_name\"]\n",
    "    # Read in the CSV file from the webpage using the defined column names\n",
    "    df = pd.read_csv(\"./data/auto-mpg.data\", header=None, names=names, delim_whitespace=True)\n",
    "    return df\n",
    "\n",
    "# Remving outliers from the data\n",
    "def outlier_detection(df):\n",
    "    df = df.quantile([.90, .10])\n",
    "    return df\n",
    "\n",
    "print(outlier_detection(read_csv()))"
   ]
  }
 ],
 "metadata": {
  "kernelspec": {
   "display_name": "Python 3 (ipykernel)",
   "language": "python",
   "name": "python3"
  },
  "language_info": {
   "codemirror_mode": {
    "name": "ipython",
    "version": 3
   },
   "file_extension": ".py",
   "mimetype": "text/x-python",
   "name": "python",
   "nbconvert_exporter": "python",
   "pygments_lexer": "ipython3",
   "version": "3.9.7"
  }
 },
 "nbformat": 4,
 "nbformat_minor": 5
}
