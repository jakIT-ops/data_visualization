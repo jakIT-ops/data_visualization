{
 "cells": [
  {
   "cell_type": "markdown",
   "id": "a50a63ae",
   "metadata": {},
   "source": [
    "# 1. Statistics and Counts"
   ]
  },
  {
   "cell_type": "markdown",
   "id": "fc2d1e21",
   "metadata": {},
   "source": [
    "## Gathering statistics on data"
   ]
  },
  {
   "cell_type": "code",
   "execution_count": 2,
   "id": "7799612e",
   "metadata": {},
   "outputs": [
    {
     "name": "stdout",
     "output_type": "stream",
     "text": [
      "                age        fnlwgt  educationnum   capitalgain   capitalloss  \\\n",
      "count  32561.000000  3.256100e+04  32561.000000  32561.000000  32561.000000   \n",
      "mean      38.581647  1.897784e+05     10.080679   1077.648844     87.303830   \n",
      "std       13.640433  1.055500e+05      2.572720   7385.292085    402.960219   \n",
      "min       17.000000  1.228500e+04      1.000000      0.000000      0.000000   \n",
      "25%       28.000000  1.178270e+05      9.000000      0.000000      0.000000   \n",
      "50%       37.000000  1.783560e+05     10.000000      0.000000      0.000000   \n",
      "75%       48.000000  2.370510e+05     12.000000      0.000000      0.000000   \n",
      "max       90.000000  1.484705e+06     16.000000  99999.000000   4356.000000   \n",
      "\n",
      "       hoursperweek  \n",
      "count  32561.000000  \n",
      "mean      40.437456  \n",
      "std       12.347429  \n",
      "min        1.000000  \n",
      "25%       40.000000  \n",
      "50%       40.000000  \n",
      "75%       45.000000  \n",
      "max       99.000000  \n"
     ]
    }
   ],
   "source": [
    "import pandas as pd\n",
    "names = ['age', 'workclass', 'fnlwgt', 'education', 'educationnum', 'maritalstatus', 'occupation', 'relationship', 'race',\n",
    "        'sex', 'capitalgain', 'capitalloss', 'hoursperweek', 'nativecountry', 'label']\n",
    "train_df = pd.read_csv(\"./data/adult.data\", header=None, names=names)\n",
    "print(train_df.describe())"
   ]
  },
  {
   "cell_type": "markdown",
   "id": "62b51dc2",
   "metadata": {},
   "source": [
    "# Finding the data types"
   ]
  },
  {
   "cell_type": "code",
   "execution_count": 4,
   "id": "fa0aa9a3",
   "metadata": {},
   "outputs": [
    {
     "name": "stdout",
     "output_type": "stream",
     "text": [
      "<class 'pandas.core.frame.DataFrame'>\n",
      "RangeIndex: 32561 entries, 0 to 32560\n",
      "Data columns (total 15 columns):\n",
      " #   Column         Non-Null Count  Dtype \n",
      "---  ------         --------------  ----- \n",
      " 0   age            32561 non-null  int64 \n",
      " 1   workclass      32561 non-null  object\n",
      " 2   fnlwgt         32561 non-null  int64 \n",
      " 3   education      32561 non-null  object\n",
      " 4   educationnum   32561 non-null  int64 \n",
      " 5   maritalstatus  32561 non-null  object\n",
      " 6   occupation     32561 non-null  object\n",
      " 7   relationship   32561 non-null  object\n",
      " 8   race           32561 non-null  object\n",
      " 9   sex            32561 non-null  object\n",
      " 10  capitalgain    32561 non-null  int64 \n",
      " 11  capitalloss    32561 non-null  int64 \n",
      " 12  hoursperweek   32561 non-null  int64 \n",
      " 13  nativecountry  32561 non-null  object\n",
      " 14  label          32561 non-null  object\n",
      "dtypes: int64(6), object(9)\n",
      "memory usage: 3.7+ MB\n",
      "None\n"
     ]
    }
   ],
   "source": [
    "import pandas as pd\n",
    "\n",
    "# Read in data as explained in reading CSV lesson\n",
    "names = ['age', 'workclass', 'fnlwgt', 'education', 'educationnum', 'maritalstatus', 'occupation', 'relationship', 'race',\n",
    "        'sex', 'capitalgain', 'capitalloss', 'hoursperweek', 'nativecountry', 'label']\n",
    "train_df = pd.read_csv(\"./data/adult.data\", header=None, names=names)\n",
    "                      \n",
    "print(train_df.info())  # Use the info() function on the dataframe"
   ]
  },
  {
   "cell_type": "markdown",
   "id": "22a5b49d",
   "metadata": {},
   "source": [
    "### Converting data types\n",
    "\n",
    "* to_numeric()\n",
    "* to_datetime()\n",
    "* to_string()"
   ]
  },
  {
   "cell_type": "markdown",
   "id": "bc6da45e",
   "metadata": {},
   "source": [
    "## Finding unique values"
   ]
  },
  {
   "cell_type": "code",
   "execution_count": 6,
   "id": "21630498",
   "metadata": {},
   "outputs": [
    {
     "name": "stdout",
     "output_type": "stream",
     "text": [
      "[' Not-in-family' ' Husband' ' Wife' ' Own-child' ' Unmarried'\n",
      " ' Other-relative']\n"
     ]
    }
   ],
   "source": [
    "import pandas as pd\n",
    "names = ['age', 'workclass', 'fnlwgt', 'education', 'educationnum', 'maritalstatus', 'occupation', 'relationship', 'race',\n",
    "        'sex', 'capitalgain', 'capitalloss', 'hoursperweek', 'nativecountry', 'label']\n",
    "train_df = pd.read_csv(\"./data/adult.data\", header=None, names=names)\n",
    "print(train_df['relationship'].unique())"
   ]
  },
  {
   "cell_type": "code",
   "execution_count": 7,
   "id": "59bfd428",
   "metadata": {},
   "outputs": [
    {
     "name": "stdout",
     "output_type": "stream",
     "text": [
      " Husband           13193\n",
      " Not-in-family      8305\n",
      " Own-child          5068\n",
      " Unmarried          3446\n",
      " Wife               1568\n",
      " Other-relative      981\n",
      "Name: relationship, dtype: int64\n"
     ]
    }
   ],
   "source": [
    "import pandas as pd\n",
    "names = ['age', 'workclass', 'fnlwgt', 'education', 'educationnum', 'maritalstatus', 'occupation', 'relationship', 'race',\n",
    "        'sex', 'capitalgain', 'capitalloss', 'hoursperweek', 'nativecountry', 'label']\n",
    "train_df = pd.read_csv(\"./data/adult.data\", header=None, names=names)\n",
    "print(train_df['relationship'].value_counts())"
   ]
  },
  {
   "cell_type": "markdown",
   "id": "e9638952",
   "metadata": {},
   "source": [
    "## Grouping the data"
   ]
  },
  {
   "cell_type": "code",
   "execution_count": 9,
   "id": "20e0b4d0",
   "metadata": {},
   "outputs": [
    {
     "name": "stdout",
     "output_type": "stream",
     "text": [
      "relationship     label \n",
      " Husband          <=50K    0.551429\n",
      "                  >50K     0.448571\n",
      " Not-in-family    <=50K    0.896930\n",
      "                  >50K     0.103070\n",
      " Other-relative   <=50K    0.962283\n",
      "                  >50K     0.037717\n",
      " Own-child        <=50K    0.986780\n",
      "                  >50K     0.013220\n",
      " Unmarried        <=50K    0.936738\n",
      "                  >50K     0.063262\n",
      " Wife             <=50K    0.524872\n",
      "                  >50K     0.475128\n",
      "Name: label, dtype: float64\n"
     ]
    }
   ],
   "source": [
    "import pandas as pd\n",
    "names = ['age', 'workclass', 'fnlwgt', 'education', 'educationnum', 'maritalstatus', 'occupation', 'relationship', 'race',\n",
    "        'sex', 'capitalgain', 'capitalloss', 'hoursperweek', 'nativecountry', 'label']\n",
    "train_df = pd.read_csv(\"./data/adult.data\", header=None, names=names)\n",
    "\n",
    "# Group by relationship and then get the value counts of label with normalization                   \n",
    "print(train_df.groupby('relationship')['label'].value_counts(normalize=True))"
   ]
  },
  {
   "cell_type": "code",
   "execution_count": 10,
   "id": "b481df5f",
   "metadata": {},
   "outputs": [
    {
     "name": "stdout",
     "output_type": "stream",
     "text": [
      "workclass\n",
      " ?                   31.919390\n",
      " Federal-gov         41.379167\n",
      " Local-gov           40.982800\n",
      " Never-worked        28.428571\n",
      " Private             40.267096\n",
      " Self-emp-inc        48.818100\n",
      " Self-emp-not-inc    44.421881\n",
      " State-gov           39.031587\n",
      " Without-pay         32.714286\n",
      "Name: hoursperweek, dtype: float64\n"
     ]
    }
   ],
   "source": [
    "import pandas as pd\n",
    "names = ['age', 'workclass', 'fnlwgt', 'education', 'educationnum', 'maritalstatus', 'occupation', 'relationship', 'race',\n",
    "        'sex', 'capitalgain', 'capitalloss', 'hoursperweek', 'nativecountry', 'label']\n",
    "train_df = pd.read_csv(\"./data/adult.data\", header=None, names=names)\n",
    "print(train_df.groupby(['workclass'])['hoursperweek'].mean())"
   ]
  },
  {
   "cell_type": "markdown",
   "id": "61cc6bf7",
   "metadata": {},
   "source": [
    "## Finding the correlation"
   ]
  },
  {
   "cell_type": "code",
   "execution_count": 11,
   "id": "1857f41a",
   "metadata": {},
   "outputs": [
    {
     "name": "stdout",
     "output_type": "stream",
     "text": [
      "                   age    fnlwgt  educationnum  capitalgain  capitalloss  \\\n",
      "age           1.000000 -0.076646      0.036527     0.077674     0.057775   \n",
      "fnlwgt       -0.076646  1.000000     -0.043195     0.000432    -0.010252   \n",
      "educationnum  0.036527 -0.043195      1.000000     0.122630     0.079923   \n",
      "capitalgain   0.077674  0.000432      0.122630     1.000000    -0.031615   \n",
      "capitalloss   0.057775 -0.010252      0.079923    -0.031615     1.000000   \n",
      "hoursperweek  0.068756 -0.018768      0.148123     0.078409     0.054256   \n",
      "\n",
      "              hoursperweek  \n",
      "age               0.068756  \n",
      "fnlwgt           -0.018768  \n",
      "educationnum      0.148123  \n",
      "capitalgain       0.078409  \n",
      "capitalloss       0.054256  \n",
      "hoursperweek      1.000000  \n"
     ]
    }
   ],
   "source": [
    "import pandas as pd\n",
    "names = ['age', 'workclass', 'fnlwgt', 'education', 'educationnum', 'maritalstatus', 'occupation', 'relationship', 'race',\n",
    "        'sex', 'capitalgain', 'capitalloss', 'hoursperweek', 'nativecountry', 'label']\n",
    "train_df = pd.read_csv(\"./data/adult.data\", header=None, names=names)\n",
    "\n",
    "# Calculate correlations                   \n",
    "print(train_df.corr())"
   ]
  },
  {
   "cell_type": "code",
   "execution_count": 13,
   "id": "3a8e73cf",
   "metadata": {},
   "outputs": [
    {
     "name": "stdout",
     "output_type": "stream",
     "text": [
      "                   age    fnlwgt  educationnum  capitalgain  capitalloss  \\\n",
      "age           1.000000 -0.076646      0.036527     0.077674     0.057775   \n",
      "fnlwgt       -0.076646  1.000000     -0.043195     0.000432    -0.010252   \n",
      "educationnum  0.036527 -0.043195      1.000000     0.122630     0.079923   \n",
      "capitalgain   0.077674  0.000432      0.122630     1.000000    -0.031615   \n",
      "capitalloss   0.057775 -0.010252      0.079923    -0.031615     1.000000   \n",
      "hoursperweek  0.068756 -0.018768      0.148123     0.078409     0.054256   \n",
      "label_int     0.234037 -0.009463      0.335154     0.223329     0.150526   \n",
      "\n",
      "              hoursperweek  label_int  \n",
      "age               0.068756   0.234037  \n",
      "fnlwgt           -0.018768  -0.009463  \n",
      "educationnum      0.148123   0.335154  \n",
      "capitalgain       0.078409   0.223329  \n",
      "capitalloss       0.054256   0.150526  \n",
      "hoursperweek      1.000000   0.229689  \n",
      "label_int         0.229689   1.000000  \n"
     ]
    }
   ],
   "source": [
    "import pandas as pd\n",
    "names = ['age', 'workclass', 'fnlwgt', 'education', 'educationnum', 'maritalstatus', 'occupation', 'relationship', 'race',\n",
    "        'sex', 'capitalgain', 'capitalloss', 'hoursperweek', 'nativecountry', 'label']\n",
    "train_df = pd.read_csv(\"./data/adult.data\", header=None, names=names)\n",
    "\n",
    "# Convert the string label into a value of 1 when >= 50k and 0 otherwise\n",
    "train_df['label_int'] = train_df.label.apply(lambda x: \">\" in x)\n",
    "print(train_df.corr())"
   ]
  },
  {
   "cell_type": "markdown",
   "id": "ff5d64a5",
   "metadata": {},
   "source": [
    "## Generating percentiles"
   ]
  },
  {
   "cell_type": "code",
   "execution_count": 15,
   "id": "553fe7ac",
   "metadata": {},
   "outputs": [
    {
     "name": "stdout",
     "output_type": "stream",
     "text": [
      "                age        fnlwgt  educationnum   capitalgain   capitalloss  \\\n",
      "count  32561.000000  3.256100e+04  32561.000000  32561.000000  32561.000000   \n",
      "mean      38.581647  1.897784e+05     10.080679   1077.648844     87.303830   \n",
      "std       13.640433  1.055500e+05      2.572720   7385.292085    402.960219   \n",
      "min       17.000000  1.228500e+04      1.000000      0.000000      0.000000   \n",
      "1%        17.000000  2.718580e+04      3.000000      0.000000      0.000000   \n",
      "5%        19.000000  3.946000e+04      5.000000      0.000000      0.000000   \n",
      "50%       37.000000  1.783560e+05     10.000000      0.000000      0.000000   \n",
      "95%       63.000000  3.796820e+05     14.000000   5013.000000      0.000000   \n",
      "99%       74.000000  5.100720e+05     16.000000  15024.000000   1980.000000   \n",
      "max       90.000000  1.484705e+06     16.000000  99999.000000   4356.000000   \n",
      "\n",
      "       hoursperweek  \n",
      "count  32561.000000  \n",
      "mean      40.437456  \n",
      "std       12.347429  \n",
      "min        1.000000  \n",
      "1%         8.000000  \n",
      "5%        18.000000  \n",
      "50%       40.000000  \n",
      "95%       60.000000  \n",
      "99%       80.000000  \n",
      "max       99.000000  \n"
     ]
    }
   ],
   "source": [
    "import pandas as pd\n",
    "names = ['age', 'workclass', 'fnlwgt', 'education', 'educationnum', 'maritalstatus', 'occupation', 'relationship', 'race',\n",
    "        'sex', 'capitalgain', 'capitalloss', 'hoursperweek', 'nativecountry', 'label']\n",
    "train_df = pd.read_csv(\"./data/adult.data\", header=None, names=names)\n",
    "\n",
    "# Use the describe function to calculate the percentiles specified                     \n",
    "print(train_df.describe(percentiles=[.01,.05,.95,.99]))"
   ]
  },
  {
   "cell_type": "markdown",
   "id": "5be83ad9",
   "metadata": {},
   "source": [
    "# 2. Reshaping the Data"
   ]
  },
  {
   "cell_type": "markdown",
   "id": "a320bffb",
   "metadata": {},
   "source": [
    "## Pivot Table"
   ]
  },
  {
   "cell_type": "code",
   "execution_count": 17,
   "id": "f4cdbcfb",
   "metadata": {},
   "outputs": [
    {
     "name": "stdout",
     "output_type": "stream",
     "text": [
      "label                               <=50K   >50K\n",
      "relationship    workclass                       \n",
      " Husband         ?                  30.72  37.33\n",
      "                 Federal-gov        42.34  43.05\n",
      "                 Local-gov          41.40  44.56\n",
      "                 Private            42.50  46.18\n",
      "                 Self-emp-inc       48.29  50.49\n",
      "                 Self-emp-not-inc   46.01  48.07\n",
      "                 State-gov          38.67  45.17\n",
      "                 Without-pay        34.25    NaN\n",
      " Not-in-family   ?                  31.29  39.44\n",
      "                 Federal-gov        40.60  47.54\n",
      "                 Local-gov          40.38  45.01\n",
      "                 Never-worked       35.00    NaN\n",
      "                 Private            40.20  47.03\n",
      "                 Self-emp-inc       49.06  53.58\n",
      "                 Self-emp-not-inc   41.53  45.02\n",
      "                 State-gov          38.87  44.19\n",
      " Other-relative  ?                  29.10  40.00\n",
      "                 Federal-gov        38.40  45.00\n",
      "                 Local-gov          35.92  48.00\n",
      "                 Private            37.44  40.74\n",
      "                 Self-emp-inc       40.00  41.67\n",
      "                 Self-emp-not-inc   36.16  49.29\n",
      "                 State-gov          36.40  29.00\n",
      " Own-child       ?                  32.39  50.00\n",
      "                 Federal-gov        35.11    NaN\n",
      "                 Local-gov          35.59  41.25\n",
      "                 Never-worked       24.80    NaN\n",
      "                 Private            32.84  43.09\n",
      "                 Self-emp-inc       39.60  43.75\n",
      "                 Self-emp-not-inc   40.33  49.38\n",
      "                 State-gov          30.10  38.33\n",
      "                 Without-pay        35.00    NaN\n",
      " Unmarried       ?                  32.75  50.00\n",
      "                 Federal-gov        39.30  43.65\n",
      "                 Local-gov          40.09  45.79\n",
      "                 Private            38.64  45.70\n",
      "                 Self-emp-inc       45.74  58.11\n",
      "                 Self-emp-not-inc   40.62  47.81\n",
      "                 State-gov          38.15  44.56\n",
      "                 Without-pay        37.50    NaN\n",
      " Wife            ?                  28.29  29.72\n",
      "                 Federal-gov        38.93  39.74\n",
      "                 Local-gov          37.87  40.38\n",
      "                 Never-worked       40.00    NaN\n",
      "                 Private            36.56  38.31\n",
      "                 Self-emp-inc       44.67  38.14\n",
      "                 Self-emp-not-inc   36.53  34.61\n",
      "                 State-gov          36.50  39.10\n",
      "                 Without-pay        23.67    NaN\n"
     ]
    }
   ],
   "source": [
    "import numpy as np\n",
    "import pandas as pd\n",
    "names = ['age', 'workclass', 'fnlwgt', 'education', 'educationnum', 'maritalstatus', 'occupation', 'relationship', 'race',\n",
    "        'sex', 'capitalgain', 'capitalloss', 'hoursperweek', 'nativecountry', 'label']\n",
    "train_df = pd.read_csv(\"./data/adult.data\", header=None, names=names)\n",
    "\n",
    "# Pivot the data frame to show by relationship, workclass (rows) and label (columns) the average hours per week.\n",
    "print(pd.pivot_table(train_df, values='hoursperweek', index=['relationship','workclass'], \n",
    "               columns=['label'], aggfunc=np.mean).round(2))"
   ]
  },
  {
   "cell_type": "markdown",
   "id": "c068740c",
   "metadata": {},
   "source": [
    "## Cross Tab\n",
    "\n",
    "**Crasstab** is a nice way to get frequency tables. What you do is pass two columns to the function and you will get the frequency of all the pair-wise combinations of those two variables"
   ]
  },
  {
   "cell_type": "code",
   "execution_count": 19,
   "id": "60123b16",
   "metadata": {},
   "outputs": [
    {
     "name": "stdout",
     "output_type": "stream",
     "text": [
      "relationship   Husband   Not-in-family   Other-relative   Own-child  \\\n",
      "label                                                                 \n",
      " <=50K            7275            7449              944        5001   \n",
      " >50K             5918             856               37          67   \n",
      "\n",
      "relationship   Unmarried   Wife  \n",
      "label                            \n",
      " <=50K              3228    823  \n",
      " >50K                218    745  \n"
     ]
    }
   ],
   "source": [
    "import numpy as np\n",
    "import pandas as pd\n",
    "names = ['age', 'workclass', 'fnlwgt', 'education', 'educationnum', 'maritalstatus', 'occupation', 'relationship', 'race',\n",
    "        'sex', 'capitalgain', 'capitalloss', 'hoursperweek', 'nativecountry', 'label']\n",
    "train_df = pd.read_csv(\"./data/adult.data\", header=None, names=names)\n",
    "\n",
    "# Calculate the frequencies between label and relationship\n",
    "print(pd.crosstab(train_df['label'], train_df.relationship))"
   ]
  },
  {
   "cell_type": "code",
   "execution_count": 21,
   "id": "1c228f40",
   "metadata": {},
   "outputs": [
    {
     "name": "stdout",
     "output_type": "stream",
     "text": [
      "relationship   Husband   Not-in-family   Other-relative   Own-child  \\\n",
      "label                                                                 \n",
      " <=50K        0.223427        0.228771         0.028992    0.153589   \n",
      " >50K         0.181751        0.026289         0.001136    0.002058   \n",
      "\n",
      "relationship   Unmarried      Wife  \n",
      "label                               \n",
      " <=50K          0.099137  0.025276  \n",
      " >50K           0.006695  0.022880  \n"
     ]
    }
   ],
   "source": [
    "import numpy as np\n",
    "import pandas as pd\n",
    "names = ['age', 'workclass', 'fnlwgt', 'education', 'educationnum', 'maritalstatus', 'occupation', 'relationship', 'race',\n",
    "        'sex', 'capitalgain', 'capitalloss', 'hoursperweek', 'nativecountry', 'label']\n",
    "train_df = pd.read_csv(\"./data/adult.data\", header=None, names=names)\n",
    "\n",
    "# Crosstab with normalized outputs\n",
    "print(pd.crosstab(train_df['label'], train_df.relationship, normalize=True))"
   ]
  },
  {
   "cell_type": "markdown",
   "id": "4ae766a6",
   "metadata": {},
   "source": [
    "## Reshape\n",
    "\n",
    "**With pandas, you can use pivot() to reshape your data. To illustrate this concept, i will use code from this post to create a dataframe in a long format**"
   ]
  },
  {
   "cell_type": "code",
   "execution_count": 23,
   "id": "286aafeb",
   "metadata": {},
   "outputs": [
    {
     "name": "stdout",
     "output_type": "stream",
     "text": [
      "          date variable     value\n",
      "0   2000-01-03        A  1.196977\n",
      "1   2000-01-04        A -0.950005\n",
      "2   2000-01-05        A -0.548391\n",
      "3   2000-01-06        A -0.047189\n",
      "4   2000-01-07        A -0.482384\n",
      "..         ...      ...       ...\n",
      "115 2000-02-07        D -0.570111\n",
      "116 2000-02-08        D -0.312861\n",
      "117 2000-02-09        D  0.898329\n",
      "118 2000-02-10        D  0.081004\n",
      "119 2000-02-11        D -0.317515\n",
      "\n",
      "[120 rows x 3 columns]\n"
     ]
    }
   ],
   "source": [
    "import pandas.util.testing as tm; tm.N = 3\n",
    "import numpy as np\n",
    "import pandas as pd \n",
    "\n",
    "def unpivot(frame):\n",
    "    N, K = frame.shape\n",
    "    data = {'value' : frame.values.ravel('F'),\n",
    "            'variable' : np.asarray(frame.columns).repeat(N),\n",
    "            'date' : np.tile(np.asarray(frame.index), K)}\n",
    "    return pd.DataFrame(data, columns=['date', 'variable', 'value'])\n",
    "df = unpivot(tm.makeTimeDataFrame())\n",
    "print(df)"
   ]
  },
  {
   "cell_type": "markdown",
   "id": "09f985e9",
   "metadata": {},
   "source": [
    "### Long to wide format"
   ]
  },
  {
   "cell_type": "code",
   "execution_count": null,
   "id": "769d41f2",
   "metadata": {},
   "outputs": [],
   "source": [
    "import pandas.util.testing as tm; tm.N = 3\n",
    "import numpy as np\n",
    "import pandas as pd \n",
    "\n",
    "def unpivot(frame):\n",
    "    N, K = frame.shape\n",
    "    data = {'value' : frame.values.ravel('F'),\n",
    "            'variable' : np.asarray(frame.columns).repeat(N),\n",
    "            'date' : np.tile(np.asarray(frame.index), K)}\n",
    "    return pd.DataFrame(data, columns=['date', 'variable', 'value'])\n",
    "df = unpivot(tm.makeTimeDataFrame())\n",
    "\n",
    "# Use pivot to keep date as the index and value as the values, but use the vaiable column to create new columns\n",
    "df_pivot = df.pivot(index='date', columns='variable', values='value')\n",
    "print(df_pivot)"
   ]
  },
  {
   "cell_type": "markdown",
   "id": "86993f1f",
   "metadata": {},
   "source": [
    "### Wide to long format"
   ]
  },
  {
   "cell_type": "code",
   "execution_count": 24,
   "id": "bc2dc3a7",
   "metadata": {},
   "outputs": [
    {
     "name": "stdout",
     "output_type": "stream",
     "text": [
      "variable  date      \n",
      "A         2000-01-03   -0.047287\n",
      "          2000-01-04   -1.690219\n",
      "          2000-01-05    0.630232\n",
      "          2000-01-06    0.206060\n",
      "          2000-01-07   -0.786919\n",
      "                          ...   \n",
      "D         2000-02-07   -0.988617\n",
      "          2000-02-08    0.226264\n",
      "          2000-02-09   -0.462064\n",
      "          2000-02-10   -1.268092\n",
      "          2000-02-11   -0.980453\n",
      "Length: 120, dtype: float64\n"
     ]
    }
   ],
   "source": [
    "import pandas.util.testing as tm; tm.N = 3\n",
    "import numpy as np\n",
    "import pandas as pd \n",
    "\n",
    "# Create long dataframe\n",
    "def unpivot(frame):\n",
    "    N, K = frame.shape\n",
    "    data = {'value' : frame.values.ravel('F'),\n",
    "            'variable' : np.asarray(frame.columns).repeat(N),\n",
    "            'date' : np.tile(np.asarray(frame.index), K)}\n",
    "    return pd.DataFrame(data, columns=['date', 'variable', 'value'])\n",
    "df = unpivot(tm.makeTimeDataFrame())\n",
    "\n",
    "# Convert to wide format\n",
    "df_pivot = df.pivot(index='date', columns='variable', values='value')\n",
    "\n",
    "# Convert back to long format\n",
    "print(df_pivot.unstack())"
   ]
  },
  {
   "cell_type": "markdown",
   "id": "13513f1e",
   "metadata": {},
   "source": [
    "# 3. Exercise: Group By Aggregations"
   ]
  },
  {
   "cell_type": "markdown",
   "id": "e43078c8",
   "metadata": {},
   "source": [
    "We will create an additional function **group_aggregation** which will take a data frame, a group variable, and an aggregation variable. The function will group by the group variable and calculate the mean of the aggregation variable for each group. Your function will return the grouped data frame."
   ]
  },
  {
   "cell_type": "code",
   "execution_count": 26,
   "id": "d724cb88",
   "metadata": {},
   "outputs": [
    {
     "name": "stdout",
     "output_type": "stream",
     "text": [
      "cylinders\n",
      "3    20.550000\n",
      "4    29.286765\n",
      "5    27.366667\n",
      "6    19.985714\n",
      "8    14.963107\n",
      "Name: mpg, dtype: float64\n"
     ]
    }
   ],
   "source": [
    "import pandas as pd\n",
    "\n",
    "# Loading dataset\n",
    "def read_csv():\n",
    "    # Define the column names as a list\n",
    "    names = [\"mpg\", \"cylinders\", \"displacement\", \"horsepower\", \"weight\", \"acceleration\", \"model_year\", \"origin\", \"car_name\"]\n",
    "    # Read in the CSV file from the webpage using the defined column names\n",
    "    df = pd.read_csv(\"./data/auto-mpg.data\", header=None, names=names, delim_whitespace=True)\n",
    "    return df\n",
    "\n",
    "# Describing data\n",
    "def group_aggregation(df, group_var, agg_var):\n",
    "    '''\n",
    "    df: A dataframe containing the dataset in the form of a matrix\n",
    "    group_var: A variable that will group the data\n",
    "    agg_var: A variable to aggregate or describe the grouped data with statistics\n",
    "    '''\n",
    "    # Grouping the data and taking mean\n",
    "    grouped_df = df.groupby([group_var])[agg_var].mean()\n",
    "    return grouped_df\n",
    "\n",
    "# Calling the function\n",
    "print(group_aggregation(read_csv(),\"cylinders\",\"mpg\"))"
   ]
  }
 ],
 "metadata": {
  "kernelspec": {
   "display_name": "Python 3 (ipykernel)",
   "language": "python",
   "name": "python3"
  },
  "language_info": {
   "codemirror_mode": {
    "name": "ipython",
    "version": 3
   },
   "file_extension": ".py",
   "mimetype": "text/x-python",
   "name": "python",
   "nbconvert_exporter": "python",
   "pygments_lexer": "ipython3",
   "version": "3.9.7"
  }
 },
 "nbformat": 4,
 "nbformat_minor": 5
}
